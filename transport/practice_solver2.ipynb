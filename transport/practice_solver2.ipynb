{
 "cells": [
  {
   "cell_type": "code",
   "execution_count": 107,
   "metadata": {
    "collapsed": true
   },
   "outputs": [],
   "source": [
    "from gekko import GEKKO\n",
    "import numpy as np\n",
    "\n",
    "#### 問題設定 ####\n",
    "farmer_num = 5 # 農家の数\n",
    "ware_house_num = 2 # 倉庫の数\n",
    "customer_num = 4 # 客の数\n",
    "\n",
    "supry = np.array([10,5,2,7,4]) # 農家の方の供給\n",
    "demand = np.array([7, 8, 3, 5]) # 店の方の需要\n",
    "a = np.array([2, 3]) #倉庫で腐れ落ちる数\n",
    "c_bar_np = np.array([[2.,4.], [2.,4.],[2.,4.],[2.,4.],[2,4 ]]) # 輸送コスト 農家から倉庫\n",
    "c_np = np.array([[2.,2.,2.,2.],[2.,2.,2.,2.]]) # 輸送コスト 倉庫から消費者\n",
    "\n",
    "##################\n",
    "#Initialize Model\n",
    "m = GEKKO()"
   ]
  },
  {
   "cell_type": "code",
   "execution_count": 108,
   "metadata": {
    "collapsed": true
   },
   "outputs": [],
   "source": [
    "#後からいじる可能性があるパラメタはm.Param?\n",
    "supry_pa = m.Array(m.Param,(supry.shape))\n",
    "for k in range(len(supry)):\n",
    "    supry_pa[k].value = supry[k]\n",
    "\n",
    "demand_pa = m.Array(m.Param,(demand.shape))\n",
    "for i in range(len(demand)):\n",
    "    demand_pa[i].value = demand[i]"
   ]
  },
  {
   "cell_type": "code",
   "execution_count": 109,
   "metadata": {},
   "outputs": [],
   "source": [
    "#変数の初期化\n",
    "gum_bar = m.Array(m.Var,(farmer_num, ware_house_num,))\n",
    "for k in range(farmer_num):\n",
    "  for j in range(ware_house_num):\n",
    "    gum_bar[k,j].value = 2.0\n",
    "    gum_bar[k,j].lower = 0.0\n",
    "    #s[i,j].upper = 100.0\n",
    "\n",
    "gum = m.Array(m.Var,(ware_house_num, customer_num))\n",
    "for j in range(ware_house_num):\n",
    "  for i in range(customer_num):\n",
    "    gum[j,i].value = 2.0\n",
    "    gum[j,i].lower = 0.0"
   ]
  },
  {
   "cell_type": "code",
   "execution_count": 110,
   "metadata": {},
   "outputs": [],
   "source": [
    "#コストのアレイ作っとく\n",
    "c_bar = m.Array(m.Const,(c_bar_np.shape))\n",
    "for k in range(c_bar_np.shape[0]):\n",
    "  for j in range(c_bar_np.shape[1]):\n",
    "    c_bar[k, j].value = c_bar_np[k, j]\n",
    "\n",
    "c = m.Array(m.Const,(c_np.shape))\n",
    "for j in range(c_np.shape[0]):\n",
    "  for i in range(c_np.shape[1]):\n",
    "    c[j, i].value = c_np[j, i]"
   ]
  },
  {
   "cell_type": "code",
   "execution_count": 111,
   "metadata": {
    "collapsed": true
   },
   "outputs": [],
   "source": [
    "# 最適化関数\n",
    "m.Obj(m.sum([m.sum([gum_bar[k, j] * c_bar[k, j] for k in range(farmer_num)]) for j in range(ware_house_num)]) + \\\n",
    "     m.sum([m.sum([gum[jj, i] * c[jj, i] for jj in range(ware_house_num)]) for i in range(customer_num)]))"
   ]
  },
  {
   "cell_type": "code",
   "execution_count": 112,
   "metadata": {},
   "outputs": [],
   "source": [
    "# 制約式\n",
    "for k in range(farmer_num):\n",
    "    m.Equation(m.sum([gum_bar[k,j] for j in range(ware_house_num)]) == supry_pa[k])\n",
    "for j in range(ware_house_num):\n",
    "    m.Equation(m.sum([gum[j,i] for i in range(customer_num)]) == m.sum([gum_bar[k, j] for k in range(farmer_num)]) - a[j])\n",
    "for i in range(customer_num):\n",
    "    m.Equation(m.sum([gum[j, i] for j in range(ware_house_num)]) == demand_pa[i])"
   ]
  },
  {
   "cell_type": "code",
   "execution_count": 113,
   "metadata": {},
   "outputs": [],
   "source": [
    "# 追加の制約 (倉庫の上限)\n",
    "w_capa = np.array([15, 15])\n",
    "w_capa_pa = m.Array(m.Param,(w_capa.shape))\n",
    "for j in range(ware_house_num):\n",
    "    w_capa_pa[j].value = w_capa[j]\n",
    "for j in range(ware_house_num):\n",
    "    m.Equation(m.sum([gum_bar[k, j] for k in range(farmer_num)]) <= w_capa_pa[j])"
   ]
  },
  {
   "cell_type": "code",
   "execution_count": 114,
   "metadata": {},
   "outputs": [
    {
     "name": "stdout",
     "output_type": "stream",
     "text": [
      "apm 223.29.218.155_gk_model13 <br><pre> ----------------------------------------------------------------\n",
      " APMonitor, Version 0.9.2\n",
      " APMonitor Optimization Suite\n",
      " ----------------------------------------------------------------\n",
      " \n",
      " \n",
      " --------- APM Model Size ------------\n",
      " Each time step contains\n",
      "   Objects      :           23\n",
      "   Constants    :           18\n",
      "   Variables    :           72\n",
      "   Intermediates:            0\n",
      "   Connections  :           93\n",
      "   Equations    :           32\n",
      "   Residuals    :           32\n",
      " \n",
      " Number of state variables:             61\n",
      " Number of total equations: -           54\n",
      " Number of slack variables: -            2\n",
      " ---------------------------------------\n",
      " Degrees of freedom       :              5\n",
      " \n",
      " **********************************************\n",
      " Steady State Optimization with Interior Point Solver\n",
      " **********************************************\n",
      "  \n",
      "  \n",
      " Info: Exact Hessian\n",
      "\n",
      "******************************************************************************\n",
      "This program contains Ipopt, a library for large-scale nonlinear optimization.\n",
      " Ipopt is released as open source code under the Eclipse Public License (EPL).\n",
      "         For more information visit http://projects.coin-or.org/Ipopt\n",
      "******************************************************************************\n",
      "\n",
      "This is Ipopt version 3.12.10, running with linear solver ma57.\n",
      "\n",
      "Number of nonzeros in equality constraint Jacobian...:      146\n",
      "Number of nonzeros in inequality constraint Jacobian.:        0\n",
      "Number of nonzeros in Lagrangian Hessian.............:        0\n",
      "\n",
      "Total number of variables............................:       61\n",
      "                     variables with only lower bounds:       20\n",
      "                variables with lower and upper bounds:        0\n",
      "                     variables with only upper bounds:        0\n",
      "Total number of equality constraints.................:       54\n",
      "Total number of inequality constraints...............:        0\n",
      "        inequality constraints with only lower bounds:        0\n",
      "   inequality constraints with lower and upper bounds:        0\n",
      "        inequality constraints with only upper bounds:        0\n",
      "\n",
      "iter    objective    inf_pr   inf_du lg(mu)  ||d||  lg(rg) alpha_du alpha_pr  ls\n",
      "   0  0.0000000e+00 1.50e+01 2.09e-01   0.0 0.00e+00    -  0.00e+00 0.00e+00   0\n",
      "   1  1.2998065e+02 1.08e-07 9.88e+00  -0.0 8.40e+01    -  9.11e-02 1.00e+00h  1\n",
      "   2  1.2801981e+02 7.32e-08 8.27e+00  -0.7 2.30e+01    -  7.06e-01 1.70e-01f  1\n",
      "   3  1.2801000e+02 4.83e-08 5.52e+00  -2.2 5.77e-02    -  9.96e-01 3.40e-01f  2\n",
      "   4  1.2800016e+02 2.31e-14 1.75e-09  -3.8 1.97e-02    -  1.00e+00 1.00e+00f  1\n",
      "   5  1.2800000e+02 7.11e-15 2.36e-08  -9.8 3.13e-04    -  1.00e+00 1.00e+00f  1\n",
      "\n",
      "Number of Iterations....: 5\n",
      "\n",
      "                                   (scaled)                 (unscaled)\n",
      "Objective...............:   1.2800000001030455e+02    1.2800000001030455e+02\n",
      "Dual infeasibility......:   2.3637247078601466e-08    2.3637247078601466e-08\n",
      "Constraint violation....:   7.1054273576010019e-15    7.1054273576010019e-15\n",
      "Complementarity.........:   4.6840919756968688e-08    4.6840919756968688e-08\n",
      "Overall NLP error.......:   4.6840919756968688e-08    4.6840919756968688e-08\n",
      "\n",
      "\n",
      "Number of objective function evaluations             = 7\n",
      "Number of objective gradient evaluations             = 6\n",
      "Number of equality constraint evaluations            = 7\n",
      "Number of inequality constraint evaluations          = 0\n",
      "Number of equality constraint Jacobian evaluations   = 6\n",
      "Number of inequality constraint Jacobian evaluations = 0\n",
      "Number of Lagrangian Hessian evaluations             = 5\n",
      "Total CPU secs in IPOPT (w/o function evaluations)   =      0.004\n",
      "Total CPU secs in NLP function evaluations           =      0.001\n",
      "\n",
      "EXIT: Optimal Solution Found.\n",
      " \n",
      " The solution was found.\n",
      " \n",
      " The final value of the objective function is    128.000000010305     \n",
      " \n",
      " ---------------------------------------------------\n",
      " Solver         :  IPOPT (v3.12)\n",
      " Solution time  :   1.029999999445863E-002 sec\n",
      " Objective      :    128.000000010305     \n",
      " Successful solution\n",
      " ---------------------------------------------------\n",
      " \n"
     ]
    }
   ],
   "source": [
    "m.solve()"
   ]
  },
  {
   "cell_type": "code",
   "execution_count": 115,
   "metadata": {},
   "outputs": [
    {
     "name": "stdout",
     "output_type": "stream",
     "text": [
      "[[[5.3866411135] [4.6133588865]]\n",
      " [[2.6690497949] [2.3309502051]]\n",
      " [[1.0630504884] [0.93694951163]]\n",
      " [[3.7493971428] [3.2506028572]]\n",
      " [[2.1318614553] [1.8681385447]]]\n",
      "================\n",
      "[[[3.9367935457] [4.4925324375] [1.7377048259] [2.8329691858]]\n",
      " [[3.0632064543] [3.5074675625] [1.2622951741] [2.1670308142]]]\n"
     ]
    }
   ],
   "source": [
    "print(gum_bar)\n",
    "print(\"================\")\n",
    "print(gum)"
   ]
  },
  {
   "cell_type": "code",
   "execution_count": null,
   "metadata": {
    "collapsed": true
   },
   "outputs": [],
   "source": []
  }
 ],
 "metadata": {
  "kernelspec": {
   "display_name": "Python 3",
   "language": "python",
   "name": "python3"
  },
  "language_info": {
   "codemirror_mode": {
    "name": "ipython",
    "version": 3
   },
   "file_extension": ".py",
   "mimetype": "text/x-python",
   "name": "python",
   "nbconvert_exporter": "python",
   "pygments_lexer": "ipython3",
   "version": "3.6.10"
  }
 },
 "nbformat": 4,
 "nbformat_minor": 2
}
