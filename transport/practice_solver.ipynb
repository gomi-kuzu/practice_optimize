{
 "cells": [
  {
   "cell_type": "code",
   "execution_count": 1,
   "metadata": {},
   "outputs": [],
   "source": [
    "from gekko import GEKKO\n",
    "import numpy as np\n",
    "\n",
    "#### 問題設定 ####\n",
    "ware_house_num = 3 # 倉庫の数\n",
    "shop_num = 2 # 店の数\n",
    "\n",
    "supry = np.array([10,5,2]) # 倉庫の方の供給\n",
    "demand = np.array([7,10]) # 店の方の需要\n",
    "c_npa = np.array([[1.,2.,3.], [4.,5.,6.]]) # 輸送コスト\n",
    "##################\n",
    "#Initialize Model\n",
    "m = GEKKO()"
   ]
  },
  {
   "cell_type": "code",
   "execution_count": 2,
   "metadata": {},
   "outputs": [],
   "source": [
    "#後からいじる可能性があるパラメタはm.Param?\n",
    "supry_pa = m.Array(m.Param,(supry.shape))\n",
    "for i in range(len(supry)):\n",
    "    supry_pa[i].value = supry[i]\n",
    "\n",
    "demand_pa = m.Array(m.Param,(demand.shape))\n",
    "for j in range(len(demand)):\n",
    "    demand_pa[j].value = demand[j]"
   ]
  },
  {
   "cell_type": "code",
   "execution_count": 3,
   "metadata": {},
   "outputs": [],
   "source": [
    "#変数の初期化\n",
    "s = m.Array(m.Var,(shop_num, ware_house_num,))\n",
    "for i in range(shop_num):\n",
    "  for j in range(ware_house_num):\n",
    "    s[i,j].value = 2.0\n",
    "    s[i,j].lower = 0.0\n",
    "    s[i,j].upper = 100.0"
   ]
  },
  {
   "cell_type": "code",
   "execution_count": 4,
   "metadata": {},
   "outputs": [],
   "source": [
    "#コストのアレイ作っとく\n",
    "c = m.Array(m.Const,(c_npa.shape))\n",
    "for i in range(shop_num):\n",
    "  for j in range(ware_house_num):\n",
    "    c[i,j].value = c_npa[i, j]"
   ]
  },
  {
   "cell_type": "code",
   "execution_count": 5,
   "metadata": {},
   "outputs": [],
   "source": [
    "# 最適化関数\n",
    "m.Obj(m.sum([m.sum([s[i,j] * c[i,j] for i in range(shop_num)]) for j in range(ware_house_num)]))"
   ]
  },
  {
   "cell_type": "code",
   "execution_count": 6,
   "metadata": {},
   "outputs": [],
   "source": [
    "# 制約式\n",
    "for i in range(shop_num):\n",
    "    m.Equation(m.sum([s[i,j] for j in range(ware_house_num)]) == demand_pa[i])\n",
    "for j in range(ware_house_num):\n",
    "    m.Equation(m.sum([s[i,j] for i in range(shop_num)]) == supry_pa[j])"
   ]
  },
  {
   "cell_type": "code",
   "execution_count": 7,
   "metadata": {},
   "outputs": [
    {
     "name": "stdout",
     "output_type": "stream",
     "text": [
      "apm 61.86.146.121_gk_model0 <br><pre> ----------------------------------------------------------------\n",
      " APMonitor, Version 0.9.2\n",
      " APMonitor Optimization Suite\n",
      " ----------------------------------------------------------------\n",
      " \n",
      " \n",
      " --------- APM Model Size ------------\n",
      " Each time step contains\n",
      "   Objects      :            9\n",
      "   Constants    :            6\n",
      "   Variables    :           26\n",
      "   Intermediates:            0\n",
      "   Connections  :           30\n",
      "   Equations    :           12\n",
      "   Residuals    :           12\n",
      " \n",
      " Number of state variables:             21\n",
      " Number of total equations: -           20\n",
      " Number of slack variables: -            0\n",
      " ---------------------------------------\n",
      " Degrees of freedom       :              1\n",
      " \n",
      " **********************************************\n",
      " Steady State Optimization with Interior Point Solver\n",
      " **********************************************\n",
      "  \n",
      "  \n",
      " Info: Exact Hessian\n",
      "\n",
      "******************************************************************************\n",
      "This program contains Ipopt, a library for large-scale nonlinear optimization.\n",
      " Ipopt is released as open source code under the Eclipse Public License (EPL).\n",
      "         For more information visit http://projects.coin-or.org/Ipopt\n",
      "******************************************************************************\n",
      "\n",
      "This is Ipopt version 3.12.10, running with linear solver ma57.\n",
      "\n",
      "Number of nonzeros in equality constraint Jacobian...:       47\n",
      "Number of nonzeros in inequality constraint Jacobian.:        0\n",
      "Number of nonzeros in Lagrangian Hessian.............:        0\n",
      "\n",
      "Total number of variables............................:       21\n",
      "                     variables with only lower bounds:        0\n",
      "                variables with lower and upper bounds:        6\n",
      "                     variables with only upper bounds:        0\n",
      "Total number of equality constraints.................:       20\n",
      "Total number of inequality constraints...............:        0\n",
      "        inequality constraints with only lower bounds:        0\n",
      "   inequality constraints with lower and upper bounds:        0\n",
      "        inequality constraints with only upper bounds:        0\n",
      "\n",
      "iter    objective    inf_pr   inf_du lg(mu)  ||d||  lg(rg) alpha_du alpha_pr  ls\n",
      "   0  0.0000000e+00 1.20e+01 1.00e+00   0.0 0.00e+00    -  0.00e+00 0.00e+00   0\n",
      "Reallocating memory for MA57: lfact (596)\n",
      "   1  5.6000000e+01 1.78e-15 4.44e-15   0.3 5.60e+01    -  1.00e+00 1.00e+00h  1\n",
      "   2  5.6000000e+01 8.88e-09 2.63e-02  -5.7 4.14e-06    -  9.90e-01 1.00e+00h  1\n",
      "   3  5.6000000e+01 3.31e-11 3.00e-11  -1.8 3.25e+00    -  1.00e+00 1.00e+00f  1\n",
      "   4  5.6000000e+01 1.71e-11 5.99e-13  -2.8 6.71e-02    -  1.00e+00 1.00e+00h  1\n",
      "   5  5.6000000e+01 3.55e-15 1.75e-15  -4.1 1.99e-02    -  1.00e+00 1.00e+00h  1\n",
      "Reallocating memory for MA57: lfact (648)\n",
      "   6  5.6000000e+01 1.41e-14 1.14e-13  -6.2 3.91e-03    -  1.00e+00 1.00e+00h  1\n",
      "\n",
      "Number of Iterations....: 6\n",
      "\n",
      "                                   (scaled)                 (unscaled)\n",
      "Objective...............:   5.5999999999999879e+01    5.5999999999999879e+01\n",
      "Dual infeasibility......:   1.1401990462900358e-13    1.1401990462900358e-13\n",
      "Constraint violation....:   1.4099832412739488e-14    1.4099832412739488e-14\n",
      "Complementarity.........:   6.9127369537198154e-07    6.9127369537198154e-07\n",
      "Overall NLP error.......:   6.9127369537198154e-07    6.9127369537198154e-07\n",
      "\n",
      "\n",
      "Number of objective function evaluations             = 7\n",
      "Number of objective gradient evaluations             = 7\n",
      "Number of equality constraint evaluations            = 7\n",
      "Number of inequality constraint evaluations          = 0\n",
      "Number of equality constraint Jacobian evaluations   = 7\n",
      "Number of inequality constraint Jacobian evaluations = 0\n",
      "Number of Lagrangian Hessian evaluations             = 6\n",
      "Total CPU secs in IPOPT (w/o function evaluations)   =      0.004\n",
      "Total CPU secs in NLP function evaluations           =      0.000\n",
      "\n",
      "EXIT: Optimal Solution Found.\n",
      " \n",
      " The solution was found.\n",
      " \n",
      " The final value of the objective function is    55.9999999999999     \n",
      " \n",
      " ---------------------------------------------------\n",
      " Solver         :  IPOPT (v3.12)\n",
      " Solution time  :   9.300000005168840E-003 sec\n",
      " Objective      :    55.9999999999999     \n",
      " Successful solution\n",
      " ---------------------------------------------------\n",
      " \n"
     ]
    }
   ],
   "source": [
    "m.solve()"
   ]
  },
  {
   "cell_type": "code",
   "execution_count": 8,
   "metadata": {},
   "outputs": [
    {
     "data": {
      "text/plain": [
       "array([[[3.7974367707], [2.1762626937], [1.0263005356]],\n",
       "       [[6.2025632293], [2.8237373063], [0.9736994644]]], dtype=object)"
      ]
     },
     "execution_count": 8,
     "metadata": {},
     "output_type": "execute_result"
    }
   ],
   "source": [
    "s"
   ]
  },
  {
   "cell_type": "code",
   "execution_count": null,
   "metadata": {
    "collapsed": true
   },
   "outputs": [],
   "source": []
  }
 ],
 "metadata": {
  "kernelspec": {
   "display_name": "Python 3",
   "language": "python",
   "name": "python3"
  },
  "language_info": {
   "codemirror_mode": {
    "name": "ipython",
    "version": 3
   },
   "file_extension": ".py",
   "mimetype": "text/x-python",
   "name": "python",
   "nbconvert_exporter": "python",
   "pygments_lexer": "ipython3",
   "version": "3.6.9"
  }
 },
 "nbformat": 4,
 "nbformat_minor": 2
}
